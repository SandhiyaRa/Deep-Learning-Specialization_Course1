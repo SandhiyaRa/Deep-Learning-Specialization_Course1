{
 "cells": [
  {
   "cell_type": "code",
   "execution_count": 1,
   "id": "3889d69b",
   "metadata": {},
   "outputs": [],
   "source": [
    "test = \"hello world\""
   ]
  },
  {
   "cell_type": "code",
   "execution_count": 2,
   "id": "6cb276e3",
   "metadata": {},
   "outputs": [
    {
     "name": "stdout",
     "output_type": "stream",
     "text": [
      "test:hello world\n"
     ]
    }
   ],
   "source": [
    "print(\"test:\" + test)"
   ]
  },
  {
   "cell_type": "code",
   "execution_count": null,
   "id": "2373dd53",
   "metadata": {},
   "outputs": [],
   "source": []
  }
 ],
 "metadata": {
  "kernelspec": {
   "display_name": "Python 3",
   "language": "python",
   "name": "python3"
  },
  "language_info": {
   "codemirror_mode": {
    "name": "ipython",
    "version": 3
   },
   "file_extension": ".py",
   "mimetype": "text/x-python",
   "name": "python",
   "nbconvert_exporter": "python",
   "pygments_lexer": "ipython3",
   "version": "3.8.8"
  }
 },
 "nbformat": 4,
 "nbformat_minor": 5
}
